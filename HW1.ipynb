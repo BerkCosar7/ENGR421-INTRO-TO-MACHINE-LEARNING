{
 "cells": [
  {
   "cell_type": "code",
   "execution_count": 1,
   "id": "7ba04d36",
   "metadata": {},
   "outputs": [],
   "source": [
    "import numpy as np\n",
    "import pandas as pd"
   ]
  },
  {
   "cell_type": "code",
   "execution_count": 2,
   "id": "9536bb28",
   "metadata": {},
   "outputs": [],
   "source": [
    "X = np.genfromtxt(\"hw01_data_points.csv\", delimiter = \",\", dtype = str)\n",
    "y = np.genfromtxt(\"hw01_class_labels.csv\", delimiter = \",\", dtype = int)"
   ]
  },
  {
   "cell_type": "code",
   "execution_count": 3,
   "id": "2e0e5876",
   "metadata": {},
   "outputs": [
    {
     "name": "stdout",
     "output_type": "stream",
     "text": [
      "(50000, 7)\n",
      "(50000,)\n",
      "(43925, 7)\n",
      "(43925,)\n"
     ]
    }
   ],
   "source": [
    "# STEP 3\n",
    "# first 50000 data points should be included to train\n",
    "# remaining 43925 data points should be included to test\n",
    "# should return X_train, y_train, X_test, and y_test\n",
    "def train_test_split(X, y):\n",
    "    # your implementation starts below\n",
    "    X_train=X[0:50000]\n",
    "    y_train=y[0:50000]\n",
    "    X_test=X[50000:93925]\n",
    "    y_test=y[50000:93925]\n",
    "    # your implementation ends above\n",
    "    \n",
    "    return(X_train, y_train, X_test, y_test)\n",
    "\n",
    "X_train, y_train, X_test, y_test = train_test_split(X, y)\n",
    "print(X_train.shape)\n",
    "print(y_train.shape)\n",
    "print(X_test.shape)\n",
    "print(y_test.shape)\n"
   ]
  },
  {
   "cell_type": "code",
   "execution_count": 4,
   "id": "6d923420",
   "metadata": {},
   "outputs": [
    {
     "name": "stdout",
     "output_type": "stream",
     "text": [
      "[0.0452 0.9548]\n"
     ]
    }
   ],
   "source": [
    "# STEP 4\n",
    "# assuming that there are K classes\n",
    "# should return a numpy array with shape (K,)\n",
    "def estimate_prior_probabilities(y):\n",
    "    # your implementation starts below\n",
    "    class_priors = np.array([np.mean(y == (c + 1)) for c in range(2)])\n",
    "    # your implementation ends above\n",
    "    return(class_priors)\n",
    "\n",
    "class_priors = estimate_prior_probabilities(y_train)\n",
    "print(class_priors)\n",
    "\n"
   ]
  },
  {
   "cell_type": "code",
   "execution_count": 5,
   "id": "97593903",
   "metadata": {},
   "outputs": [
    {
     "name": "stdout",
     "output_type": "stream",
     "text": [
      "[[0.32345133 0.64424779 0.09424779 0.56681416 0.68938053 0.0800885\n",
      "  0.16371681]\n",
      " [0.25450356 0.2728739  0.30117302 0.19522413 0.25473398 0.23990364\n",
      "  0.26292417]]\n",
      "[[0.37433628 0.12123894 0.02964602 0.03230088 0.08053097 0.05221239\n",
      "  0.16725664]\n",
      " [0.21979472 0.2340176  0.06514453 0.20605362 0.21214914 0.24767491\n",
      "  0.21723921]]\n",
      "[[0.18716814 0.1199115  0.81814159 0.37477876 0.11371681 0.79513274\n",
      "  0.19690265]\n",
      " [0.24805195 0.24434437 0.2676791  0.33636364 0.22869711 0.23104315\n",
      "  0.23016339]]\n",
      "[[0.11504425 0.11460177 0.0579646  0.02610619 0.11637168 0.07256637\n",
      "  0.47212389]\n",
      " [0.27764977 0.24876414 0.36600335 0.26235861 0.30441977 0.2813783\n",
      "  0.28967323]]\n"
     ]
    }
   ],
   "source": [
    "# STEP 5\n",
    "# assuming that there are K classes and D features\n",
    "# should return four numpy arrays with shape (K, D)\n",
    "def estimate_nucleotide_probabilities(X, y):\n",
    "    # your implementation starts below\n",
    "    #calculating pAcd\n",
    "    pAcd = np.array([[np.sum((y == c+1) & (X[:, d] == 'A')) for d in range(7)] for c in range(2)] )\n",
    "    \n",
    "    number_of_c_one= np.array([np.mean(y == (c + 1)) for c in range(2)])[0] * len(y)\n",
    "    number_of_c_two= len(y)-number_of_c_one\n",
    "    \n",
    "    pAcd1=pAcd[0]/number_of_c_one \n",
    "    pAcd2=pAcd[1]/number_of_c_two \n",
    "    \n",
    "    pAcd= np.array([pAcd1,pAcd2])\n",
    "    \n",
    "    \n",
    "    #calculating pCcd\n",
    "    pCcd = np.array([[np.sum((y == c+1) & (X[:, d] == 'C')) for d in range(7)] for c in range(2)] )\n",
    "    \n",
    "    \n",
    "    \n",
    "    pCcd1=pCcd[0]/number_of_c_one \n",
    "    pCcd2=pCcd[1]/number_of_c_two \n",
    "    \n",
    "    pCcd= np.array([pCcd1,pCcd2])\n",
    "    \n",
    "    \n",
    "    #calculating pGcd\n",
    "    \n",
    "    pGcd = np.array([[np.sum((y == c+1) & (X[:, d] == 'G')) for d in range(7)] for c in range(2)] )\n",
    "    \n",
    "\n",
    "    \n",
    "    pGcd1=pGcd[0]/number_of_c_one \n",
    "    pGcd2=pGcd[1]/number_of_c_two \n",
    "    \n",
    "    pGcd= np.array([pGcd1,pGcd2])\n",
    "    \n",
    "    \n",
    "    \n",
    "    #pTcd\n",
    "    \n",
    "    pTcd = np.array([[np.sum((y == c+1) & (X[:, d] == 'T')) for d in range(7)] for c in range(2)] )\n",
    "    \n",
    "    \n",
    "    \n",
    "    pTcd1=pTcd[0]/number_of_c_one \n",
    "    pTcd2=pTcd[1]/number_of_c_two \n",
    "    \n",
    "    pTcd= np.array([pTcd1,pTcd2])\n",
    "    \n",
    "    return(pAcd,pCcd,pGcd,pTcd)\n",
    "\n",
    "pAcd,pCcd,pGcd,pTcd= estimate_nucleotide_probabilities(X_train, y_train)\n",
    "\n",
    "print(pAcd)\n",
    "print(pCcd)\n",
    "print(pGcd)\n",
    "print(pTcd)\n"
   ]
  },
  {
   "cell_type": "code",
   "execution_count": 6,
   "id": "261604d7",
   "metadata": {},
   "outputs": [
    {
     "name": "stdout",
     "output_type": "stream",
     "text": [
      "[[-15.84302871  -9.3433522 ]\n",
      " [-16.73815388  -8.90270491]\n",
      " [-17.12201508  -8.87059123]\n",
      " ...\n",
      " [-12.64747986  -9.3077559 ]\n",
      " [-18.14584244  -9.54820083]\n",
      " [-14.67706629  -9.45002167]]\n",
      "[[-17.02244643  -9.95385128]\n",
      " [-13.10176993  -9.42908242]\n",
      " [-12.61507938  -9.54180473]\n",
      " ...\n",
      " [-12.86990369  -9.21875465]\n",
      " [-12.90250138  -9.38540918]\n",
      " [-16.43266951  -9.37467256]]\n"
     ]
    }
   ],
   "source": [
    "# STEP 6\n",
    "# assuming that there are N data points and K classes\n",
    "# should return a numpy array with shape (N, K)\n",
    "def calculate_score_values(X, pAcd, pCcd, pGcd, pTcd, class_priors):\n",
    "    # your implementation starts below\n",
    "   \n",
    "    \n",
    "    \n",
    "    \n",
    "    sumA= np.sum ((np.array([[np.sum((X[c, d] == 'A')) for d in range(7)] for c in range(len(X[:,1])) ]   )) * np.log(pAcd[0]), axis=1,keepdims=True)\n",
    "    sumG= np.sum ((np.array([[np.sum((X[c, d] == 'G')) for d in range(7)] for c in range(len(X[:,1])) ]   )) * np.log(pGcd[0]), axis=1,keepdims=True)\n",
    "    sumT= np.sum ((np.array([[np.sum((X[c, d] == 'T')) for d in range(7)] for c in range(len(X[:,1])) ]   )) * np.log(pTcd[0]), axis=1,keepdims=True)\n",
    "    sumC= np.sum ((np.array([[np.sum((X[c, d] == 'C')) for d in range(7)] for c in range(len(X[:,1])) ]   )) * np.log(pCcd[0]), axis=1,keepdims=True)\n",
    "    log_prob=np.log(class_priors[0])\n",
    "    summ=sumA+sumG+sumT+sumC+log_prob\n",
    "    \n",
    "    \n",
    "    sumA2= np.sum ((np.array([[np.sum((X[c, d] == 'A')) for d in range(7)] for c in range(len(X[:,1])) ]   )) * np.log(pAcd[1]), axis=1,keepdims=True)\n",
    "    sumG2= np.sum ((np.array([[np.sum((X[c, d] == 'G')) for d in range(7)] for c in range(len(X[:,1])) ]   )) * np.log(pGcd[1]), axis=1,keepdims=True)\n",
    "    sumT2= np.sum ((np.array([[np.sum((X[c, d] == 'T')) for d in range(7)] for c in range(len(X[:,1])) ]   )) * np.log(pTcd[1]), axis=1,keepdims=True)\n",
    "    sumC2= np.sum ((np.array([[np.sum((X[c, d] == 'C')) for d in range(7)] for c in range(len(X[:,1])) ]   )) * np.log(pCcd[1]), axis=1,keepdims=True)\n",
    "    log_prob2=np.log(class_priors[1])\n",
    "    summ2=sumA2+sumG2+sumT2+sumC2+log_prob2\n",
    "    \n",
    "    \n",
    "   \n",
    "   \n",
    "  \n",
    "    \n",
    "    score_values=np.column_stack((summ,summ2))\n",
    "    \n",
    "    \n",
    "    \n",
    "    \n",
    "    \n",
    "    \n",
    "    \n",
    "    \n",
    "    # your implementation ends above\n",
    "    return(score_values)\n",
    "\n",
    "scores_train = calculate_score_values(X_train, pAcd, pCcd, pGcd, pTcd, class_priors)\n",
    "print(scores_train)\n",
    "\n",
    "scores_test = calculate_score_values(X_test, pAcd, pCcd, pGcd, pTcd, class_priors)\n",
    "print(scores_test)\n"
   ]
  },
  {
   "cell_type": "code",
   "execution_count": 7,
   "id": "267ba835",
   "metadata": {},
   "outputs": [
    {
     "name": "stdout",
     "output_type": "stream",
     "text": [
      "[[ 1066   484]\n",
      " [ 1194 47256]]\n",
      "[[  891   416]\n",
      " [ 1057 41561]]\n"
     ]
    }
   ],
   "source": [
    "# STEP 7\n",
    "# assuming that there are K classes\n",
    "# should return a numpy array with shape (K, K)\n",
    "def calculate_confusion_matrix(y_truth, scores):\n",
    "    # your implementation starts below\n",
    "    \n",
    "    \n",
    "    \n",
    "    y_pred = np.argmax(scores, axis=1) +1\n",
    "    \n",
    "    TN= np.sum((y_truth==1) & (y_pred==1))\n",
    "    FN= np.sum((y_truth==2) & (y_pred==1))\n",
    "    \n",
    "    FP= np.sum((y_truth==1) & (y_pred==2))\n",
    "    TP= np.sum((y_truth==2) & (y_pred==2))\n",
    "    \n",
    "    confusion_matrix = np.zeros((2, 2),dtype=int)\n",
    "    \n",
    "    confusion_matrix[0][0]=TN\n",
    "    confusion_matrix[0][1]=FN\n",
    "    confusion_matrix[1][0]=FP\n",
    "    confusion_matrix[1][1]=TP\n",
    "\n",
    "\n",
    "    return(confusion_matrix)\n",
    "\n",
    "confusion_train = calculate_confusion_matrix(y_train, scores_train)\n",
    "print(confusion_train)\n",
    "\n",
    "confusion_test = calculate_confusion_matrix(y_test, scores_test)\n",
    "print(confusion_test)"
   ]
  },
  {
   "cell_type": "code",
   "execution_count": null,
   "id": "5f37d07c",
   "metadata": {},
   "outputs": [],
   "source": []
  }
 ],
 "metadata": {
  "kernelspec": {
   "display_name": "Python 3",
   "language": "python",
   "name": "python3"
  },
  "language_info": {
   "codemirror_mode": {
    "name": "ipython",
    "version": 3
   },
   "file_extension": ".py",
   "mimetype": "text/x-python",
   "name": "python",
   "nbconvert_exporter": "python",
   "pygments_lexer": "ipython3",
   "version": "3.8.8"
  }
 },
 "nbformat": 4,
 "nbformat_minor": 5
}
